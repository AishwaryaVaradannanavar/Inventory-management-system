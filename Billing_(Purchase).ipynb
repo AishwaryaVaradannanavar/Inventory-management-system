{
  "nbformat": 4,
  "nbformat_minor": 0,
  "metadata": {
    "colab": {
      "name": "Billing (Purchase).ipynb",
      "provenance": [],
      "authorship_tag": "ABX9TyPGmJYxdmSr+3CdlIvsyJKu",
      "include_colab_link": true
    },
    "kernelspec": {
      "name": "python3",
      "display_name": "Python 3"
    },
    "language_info": {
      "name": "python"
    }
  },
  "cells": [
    {
      "cell_type": "markdown",
      "metadata": {
        "id": "view-in-github",
        "colab_type": "text"
      },
      "source": [
        "<a href=\"https://colab.research.google.com/github/AishwaryaVaradannanavar/Inventory-management-system/blob/main/Billing_(Purchase).ipynb\" target=\"_parent\"><img src=\"https://colab.research.google.com/assets/colab-badge.svg\" alt=\"Open In Colab\"/></a>"
      ]
    },
    {
      "cell_type": "code",
      "metadata": {
        "id": "EZuESpc53uqa"
      },
      "source": [
        "import json\n",
        "a=open(\"products.json\",'r')\n",
        "txt1=a.read()\n",
        "a.close()\n",
        "txt=json.loads(txt1)\n",
        "b=open(\"users.json\",'r')\n",
        "userslist=b.read()\n",
        "b.close()\n",
        "txt2=json.loads(userslist)\n",
        "totalusers=len(txt2.keys())\n",
        "c=open(\"sales.json\",'r')\n",
        "sales=c.read()\n",
        "c.close()\n",
        "txt3=json.loads(sales)\n",
        "totalsales=len(txt3.keys())"
      ],
      "execution_count": null,
      "outputs": []
    },
    {
      "cell_type": "code",
      "metadata": {
        "id": "Dgtwfkol34R3"
      },
      "source": [
        "print(\"******BILLING******\\n\")\n",
        "total=0\n",
        "txt3={}\n",
        "totalsales=0\n",
        "phno=input(\"Enter phone number of customer if membership done  \")\n",
        "while (True):\n",
        "\n",
        "  id=str(input(\"Enter ID:\"))\n",
        "  quant=int(input(\"Quantity:\"))\n",
        "  \n",
        "  if (txt[id]['quantityinstock']==0):\n",
        "    print(\"OUT OF STOCK!!\\n\")\n",
        "  elif (txt[id]['quantityinstock']<quant):\n",
        "    print(\"Discount \"+str(txt[id]['discount'])+\"% on \"+id)\n",
        "    amount=txt[id]['quantityinstock']*txt[id]['price']*(100-txt[id]['discount'])/100\n",
        "    print(\"Amount= \"+str(amount))\n",
        "    txt3[totalsales++]={'Product Name':txt[id]['pname'],'Product ID':id,'Quantity sold':txt[id]['quantityinstock'],'Total amount':amount}\n",
        "    total+=amount\n",
        "    print(\"Only \"+str(txt[id]['quantityinstock'])+\" available, ADDED TO BILL\\n\")\n",
        "    txt[id]['quantityinstock']=0\n",
        "  elif (txt[id]['quantityinstock']>=quant):\n",
        "    print(\"Discount \"+str(txt[id]['discount'])+\"% on \"+id)\n",
        "    amount=quant*txt[id]['price']*(100-txt[id]['discount'])/100\n",
        "    print(\"Amount= \"+str(amount))\n",
        "    txt3[totalsales]={'Product Name':txt[id]['pname'],'Product ID':id,'Quantity sold':quant,'Total amount':amount}\n",
        "    total+=amount\n",
        "    txt[id]['quantityinstock']-=quant\n",
        "    print(\"ADDED TO BILL\\n\")\n",
        "\n",
        "  op=int(input(\"1.Add next product\\n0.Finish billing\\n\"))\n",
        "  if (op==0):\n",
        "    op1=int(input(\"Do you want to use your points?\\n1.YES\\n2.NO\\n\"))\n",
        "    if (op1==1):\n",
        "      if (txt2[phno]['points_earned']==0):\n",
        "        print(\"You have 0 points\\n\")\n",
        "      elif (txt2[phno]['points_earned']<total):\n",
        "        total-=txt2[phno]['points_earned']\n",
        "        print(str(txt2[phno]['points_earned'])+\" points used\\n\")\n",
        "      elif (txt2[phno]['points_earned']>total):\n",
        "        print(str(total)+\" points used\\n\")\n",
        "        total=0\n",
        "        \n",
        "    print(\"TOTAL AMOUNT= Rs.\"+str(total))\n",
        "    txt2[phno]['points_earned']+=int(total/50)\n",
        "    print(str(txt2[phno]['points_earned'])+\" points added. THANKYOU FOR SHOPPING\")\n",
        "    break; \n",
        "    "
      ],
      "execution_count": null,
      "outputs": []
    },
    {
      "cell_type": "code",
      "metadata": {
        "id": "uYxkmJEk37If"
      },
      "source": [
        "txt3"
      ],
      "execution_count": null,
      "outputs": []
    },
    {
      "cell_type": "code",
      "metadata": {
        "id": "zlxQvz2f39La"
      },
      "source": [
        "js=json.dumps(txt)\n",
        "a=open(\"products.json\",'w')\n",
        "a.write(js)\n",
        "a.close()\n",
        "\n",
        "js1=json.dumps(txt2)\n",
        "b=open(\"users.json\",'w')\n",
        "b.write(js1)\n",
        "b.close()\n",
        "\n",
        "js2=json.dumps(txt3)\n",
        "c=open(\"sales.json\",'w')\n",
        "c.write(js2)\n",
        "c.close()\n"
      ],
      "execution_count": null,
      "outputs": []
    }
  ]
}