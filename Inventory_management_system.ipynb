{
  "nbformat": 4,
  "nbformat_minor": 0,
  "metadata": {
    "colab": {
      "name": "Inventory management system.ipynb",
      "provenance": [],
      "collapsed_sections": [],
      "authorship_tag": "ABX9TyM0W2psAMQ+3xkcc6f253Qz",
      "include_colab_link": true
    },
    "kernelspec": {
      "name": "python3",
      "display_name": "Python 3"
    },
    "language_info": {
      "name": "python"
    }
  },
  "cells": [
    {
      "cell_type": "markdown",
      "metadata": {
        "id": "view-in-github",
        "colab_type": "text"
      },
      "source": [
        "<a href=\"https://colab.research.google.com/github/AishwaryaVaradannanavar/Inventory-management-system/blob/main/Inventory_management_system.ipynb\" target=\"_parent\"><img src=\"https://colab.research.google.com/assets/colab-badge.svg\" alt=\"Open In Colab\"/></a>"
      ]
    },
    {
      "cell_type": "code",
      "metadata": {
        "id": "fWAK7q2-V7Iy"
      },
      "source": [
        "import json\n",
        "a=open(\"products.json\",'r')\n",
        "txt1=a.read()\n",
        "a.close()\n",
        "txt=json.loads(txt1)\n",
        "\n"
      ],
      "execution_count": 232,
      "outputs": []
    },
    {
      "cell_type": "code",
      "metadata": {
        "colab": {
          "base_uri": "https://localhost:8080/"
        },
        "id": "z-NitIQbCPpq",
        "outputId": "c64240db-e485-4c3e-aeb5-c54dcdaf5171"
      },
      "source": [
        "print(\"********STOCK*********\\n\")\n",
        "\n",
        "while (True):\n",
        "  option=int(input(\"1.New product\\n2.Restock\\n3.Stop\\n\"))\n",
        "  if(option==1):\n",
        "\n",
        "    productid=str(input(\"Enter ProductID: \"))\n",
        "    pname=str(input(\"Enter Product name: \"))\n",
        "    price=int(input(\"Enter Product price: \"))\n",
        "    quantityinstock=int(input(\"Enter Product quantity in stock: \"))\n",
        "    discount=int(input(\"Enter Product discount in percentage: \"))\n",
        "    \n",
        "    new={'pname':pname,'price':price,'quantityinstock':quantityinstock,'discount':discount}\n",
        "    \n",
        "    txt[productid]=new\n",
        "\n",
        "  elif(option==2):\n",
        "\n",
        "    productid=str(input(\"Enter ProductID: \"))\n",
        "    restockquantity=int(input(\"Enter number of Products restocking: \"))\n",
        "    txt[productid]['quantityinstock']+=restockquantity\n",
        "\n",
        "  elif(option==3):\n",
        "    break;"
      ],
      "execution_count": 252,
      "outputs": [
        {
          "name": "stdout",
          "output_type": "stream",
          "text": [
            "********STOCK*********\n",
            "\n",
            "1.New product\n",
            "2.Restock\n",
            "3.Stop\n",
            "1\n",
            "Enter ProductID: tee\n",
            "Enter Product name: tee\n",
            "Enter Product price: 500\n",
            "Enter Product quantity in stock: 80\n",
            "Enter Product discount in percentage: 9\n",
            "1.New product\n",
            "2.Restock\n",
            "3.Stop\n",
            "3\n"
          ]
        }
      ]
    },
    {
      "cell_type": "code",
      "metadata": {
        "colab": {
          "base_uri": "https://localhost:8080/"
        },
        "id": "BnfhWdNcGmmZ",
        "outputId": "f5801240-00a0-460f-ae63-a5ff8297c3c1"
      },
      "source": [
        "txt"
      ],
      "execution_count": 233,
      "outputs": [
        {
          "output_type": "execute_result",
          "data": {
            "text/plain": [
              "{'ju': {'discount': 7, 'pname': 'ju', 'price': 5, 'quantityinstock': 6},\n",
              " 'we': {'discount': 2, 'pname': 'we', 'price': 2, 'quantityinstock': 2}}"
            ]
          },
          "metadata": {},
          "execution_count": 233
        }
      ]
    },
    {
      "cell_type": "code",
      "metadata": {
        "id": "pO3YnrDwNAQT"
      },
      "source": [
        "js=json.dumps(txt)\n",
        "a=open(\"products.json\",'w')\n",
        "a.write(js)\n",
        "a.close()\n"
      ],
      "execution_count": 231,
      "outputs": []
    },
    {
      "cell_type": "code",
      "metadata": {
        "id": "YJn8rVH9yAJI"
      },
      "source": [
        "b=open(\"users.json\",'r')\n",
        "userslist=b.read()\n",
        "b.close()\n",
        "txt2=json.loads(userslist)\n",
        "totalusers=len(txt2.keys())"
      ],
      "execution_count": 238,
      "outputs": []
    },
    {
      "cell_type": "code",
      "metadata": {
        "colab": {
          "base_uri": "https://localhost:8080/"
        },
        "id": "7djtFSPlxQoI",
        "outputId": "52e38c82-e0c7-4f8f-974d-c96e978051db"
      },
      "source": [
        "print(\"********MEMBERSHIP*********\\n\")\n",
        "\n",
        "while (True):\n",
        "  option=int(input(\"1.New member\\n2.Check points\\n3.Delete Membership\\n4.Stop\\n\"))\n",
        "  if(option==1):\n",
        "    totalusers+=1\n",
        "    userid=str(totalusers)\n",
        "    uname=str(input(\"Enter Member name: \"))\n",
        "    phoneno=str(input(\"Enter Phone no.: \"))\n",
        "    points_earned=0;\n",
        "    \n",
        "    new={'userid':userid,'uname':uname,'points_earned':points_earned}\n",
        "    txt2[phoneno]=new\n",
        "    print(\"Membership created for \"+str(txt2[phoneno]['uname'])+\" ENJOY SHOPPING!\")\n",
        "  elif(option==2):\n",
        "    phno=str(input(\"enter phone number: \"))\n",
        "    print(\"Points earned till now= \"+str(txt2[phno]['points_earned']))\n",
        "  elif(option==3):\n",
        "    phno=str(input(\"enter phone number: \"))\n",
        "    print(str(txt2[phno]['uname'])+\", your membership has been delted\")\n",
        "    del txt2[phno]\n",
        "    \n",
        "  elif(option==4):\n",
        "    break;"
      ],
      "execution_count": null,
      "outputs": [
        {
          "output_type": "stream",
          "name": "stdout",
          "text": [
            "********MEMBERSHIP*********\n",
            "\n",
            "1.New member\n",
            "2.Check points\n",
            "3.Delete Membership\n",
            "4.Stop\n",
            "2\n",
            "enter phone number: 878787\n",
            "Points earned till now= 9\n"
          ]
        }
      ]
    },
    {
      "cell_type": "code",
      "metadata": {
        "id": "hQwCkKL60od_"
      },
      "source": [
        "txt2['878787']['points_earned']=50"
      ],
      "execution_count": 249,
      "outputs": []
    },
    {
      "cell_type": "code",
      "metadata": {
        "id": "PBH4hx3h0oQw"
      },
      "source": [
        "js1=json.dumps(txt2)\n",
        "b=open(\"users.json\",'w')\n",
        "b.write(js1)\n",
        "b.close()"
      ],
      "execution_count": 237,
      "outputs": []
    },
    {
      "cell_type": "code",
      "metadata": {
        "id": "IL0LhLaMAEVl"
      },
      "source": [
        "a=open(\"products.json\",'r')\n",
        "txt1=a.read()\n",
        "a.close()\n",
        "txt=json.loads(txt1)\n",
        "b=open(\"users.json\",'r')\n",
        "userslist=b.read()\n",
        "b.close()\n",
        "txt2=json.loads(userslist)\n",
        "totalusers=len(txt2.keys())"
      ],
      "execution_count": 241,
      "outputs": []
    },
    {
      "cell_type": "code",
      "metadata": {
        "id": "tpOxKiyIpOCy"
      },
      "source": [
        "print(\"******BILLING******\\n\")\n",
        "total=0\n",
        "phno=input(\"Enter phone number of customer if membership done\")\n",
        "while (True):\n",
        "\n",
        "  id=str(input(\"Enter ID:\"))\n",
        "  quant=int(input(\"Quantity:\"))\n",
        "  \n",
        "  if (txt[id]['quantityinstock']==0):\n",
        "    print(\"OUT OF STOCK!!\\n\")\n",
        "  elif (txt[id]['quantityinstock']<quant):\n",
        "    print(\"Discount \"+str(txt[id]['discount'])+\"% on \"+id)\n",
        "    amount=txt[id]['quantityinstock']*txt[id]['price']*(100-txt[id]['discount'])/100\n",
        "    print(\"Amount= \"+str(amount))\n",
        "    total+=amount\n",
        "    print(\"Only \"+str(txt[id]['quantityinstock'])+\" available, ADDED TO BILL\\n\")\n",
        "    txt[id]['quantityinstock']=0\n",
        "  elif (txt[id]['quantityinstock']>=quant):\n",
        "    print(\"Discount \"+str(txt[id]['discount'])+\"% on \"+id)\n",
        "    amount=quant*txt[id]['price']*(100-txt[id]['discount'])/100\n",
        "    print(\"Amount= \"+str(amount))\n",
        "    total+=amount\n",
        "    txt[id]['quantityinstock']-=quant\n",
        "    print(\"ADDED TO BILL\\n\")\n",
        "\n",
        "  op=int(input(\"1.Add next product\\n0.Finish billing\\n\"))\n",
        "  if (op==0):\n",
        "    op1=int(input(\"Do you want to use your points?\\n1.YES\\n2.NO\\n\"))\n",
        "    if (op1==1):\n",
        "      if (txt2[phno]['points_earned']==0):\n",
        "        print(\"You have 0 points\\n\")\n",
        "      elif (txt2[phno]['points_earned']<total):\n",
        "        total-=txt2[phno]['points_earned']\n",
        "        print(str(txt2[phno]['points_earned'])+\" points used\\n\")\n",
        "      elif (txt2[phno]['points_earned']>total):\n",
        "        print(str(total)+\" points used\\n\")\n",
        "        total=0\n",
        "        \n",
        "    print(\"TOTAL AMOUNT= Rs.\"+str(total))\n",
        "    txt2[phno]['points_earned']+=int(total/50)\n",
        "    print(str(txt2[phno]['points_earned'])+\" points added. THANKYOU FOR SHOPPING\")\n",
        "    break; \n",
        "    "
      ],
      "execution_count": null,
      "outputs": []
    }
  ]
}