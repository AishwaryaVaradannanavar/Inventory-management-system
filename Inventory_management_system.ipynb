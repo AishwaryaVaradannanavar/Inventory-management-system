{
  "nbformat": 4,
  "nbformat_minor": 0,
  "metadata": {
    "colab": {
      "name": "Inventory management system.ipynb",
      "provenance": [],
      "collapsed_sections": [],
      "authorship_tag": "ABX9TyOdqaoH8eTnJMOoG9A5sY0X",
      "include_colab_link": true
    },
    "kernelspec": {
      "name": "python3",
      "display_name": "Python 3"
    },
    "language_info": {
      "name": "python"
    }
  },
  "cells": [
    {
      "cell_type": "markdown",
      "metadata": {
        "id": "view-in-github",
        "colab_type": "text"
      },
      "source": [
        "<a href=\"https://colab.research.google.com/github/AishwaryaVaradannanavar/Inventory-management-system/blob/main/Inventory_management_system.ipynb\" target=\"_parent\"><img src=\"https://colab.research.google.com/assets/colab-badge.svg\" alt=\"Open In Colab\"/></a>"
      ]
    },
    {
      "cell_type": "code",
      "metadata": {
        "id": "fWAK7q2-V7Iy"
      },
      "source": [
        "import json\n",
        "a=open(\"products.json\",'r')\n",
        "txt1=a.read()\n",
        "a.close()\n",
        "txt=json.loads(txt1)\n",
        "\n"
      ],
      "execution_count": 278,
      "outputs": []
    },
    {
      "cell_type": "code",
      "metadata": {
        "id": "z-NitIQbCPpq",
        "colab": {
          "base_uri": "https://localhost:8080/"
        },
        "outputId": "a5db3388-5bd4-4863-c766-d16bc8b22b35"
      },
      "source": [
        "print(\"********STOCK*********\\n\")\n",
        "\n",
        "while (True):\n",
        "  option=int(input(\"1.New product\\n2.Restock\\n3.check stock\\n4.Stop\\n\"))\n",
        "  if (option==1):\n",
        "\n",
        "    productid=str(input(\"Enter ProductID: \"))\n",
        "    pname=str(input(\"Enter Product name: \"))\n",
        "    price=int(input(\"Enter Product price: \"))\n",
        "    quantityinstock=int(input(\"Enter Product quantity in stock: \"))\n",
        "    discount=int(input(\"Enter Product discount in percentage: \"))\n",
        "    \n",
        "    new={'pname':pname,'price':price,'quantityinstock':quantityinstock,'discount':discount}\n",
        "    \n",
        "    txt[productid]=new\n",
        "\n",
        "  elif (option==2):\n",
        "\n",
        "    productid=str(input(\"Enter ProductID: \"))\n",
        "    restockquantity=int(input(\"Enter number of Products restocking: \"))\n",
        "    txt[productid]['quantityinstock']+=restockquantity\n",
        "  elif (option==3):\n",
        "    productid=str(input(\"Enter ProductID: \"))\n",
        "    print(\"stock remaining= \"+str(txt[productid]['quantityinstock']))\n",
        "  elif (option==4):\n",
        "    break;"
      ],
      "execution_count": 279,
      "outputs": [
        {
          "name": "stdout",
          "output_type": "stream",
          "text": [
            "********STOCK*********\n",
            "\n",
            "1.New product\n",
            "2.Restock\n",
            "3.check stock\n",
            "4.Stop\n",
            "1\n",
            "Enter ProductID: 007\n",
            "Enter Product name: cake\n",
            "Enter Product price: 50\n",
            "Enter Product quantity in stock: 5\n",
            "Enter Product discount in percentage: 0\n",
            "1.New product\n",
            "2.Restock\n",
            "3.check stock\n",
            "4.Stop\n",
            "2\n",
            "Enter ProductID: 003\n",
            "Enter number of Products restocking: 5\n",
            "1.New product\n",
            "2.Restock\n",
            "3.check stock\n",
            "4.Stop\n",
            "3\n",
            "Enter ProductID: 003\n",
            "stock remaining= 25\n",
            "1.New product\n",
            "2.Restock\n",
            "3.check stock\n",
            "4.Stop\n",
            "4\n"
          ]
        }
      ]
    },
    {
      "cell_type": "code",
      "metadata": {
        "colab": {
          "base_uri": "https://localhost:8080/"
        },
        "id": "BnfhWdNcGmmZ",
        "outputId": "3529e6a6-e2fc-402c-f530-8990def1a482"
      },
      "source": [
        "txt"
      ],
      "execution_count": 280,
      "outputs": [
        {
          "output_type": "execute_result",
          "data": {
            "text/plain": [
              "{'001': {'discount': 5,\n",
              "  'pname': 't shirt',\n",
              "  'price': 500,\n",
              "  'quantityinstock': 44},\n",
              " '002': {'discount': 0, 'pname': 'apple', 'price': 20, 'quantityinstock': 30},\n",
              " '003': {'discount': 0, 'pname': 'banana', 'price': 10, 'quantityinstock': 25},\n",
              " '004': {'discount': 10, 'pname': 'oil', 'price': 300, 'quantityinstock': 5},\n",
              " '005': {'discount': 0, 'pname': 'bread', 'price': 30, 'quantityinstock': 4},\n",
              " '006': {'discount': 0,\n",
              "  'pname': 'biscuit',\n",
              "  'price': 20,\n",
              "  'quantityinstock': 10},\n",
              " '007': {'discount': 0, 'pname': 'cake', 'price': 50, 'quantityinstock': 5}}"
            ]
          },
          "metadata": {},
          "execution_count": 280
        }
      ]
    },
    {
      "cell_type": "code",
      "metadata": {
        "id": "pO3YnrDwNAQT"
      },
      "source": [
        "js=json.dumps(txt)\n",
        "a=open(\"products.json\",'w')\n",
        "a.write(js)\n",
        "a.close()\n"
      ],
      "execution_count": 281,
      "outputs": []
    },
    {
      "cell_type": "code",
      "metadata": {
        "id": "YJn8rVH9yAJI"
      },
      "source": [
        "b=open(\"users.json\",'r')\n",
        "userslist=b.read()\n",
        "b.close()\n",
        "txt2=json.loads(userslist)\n",
        "totalusers=len(txt2.keys())"
      ],
      "execution_count": 282,
      "outputs": []
    },
    {
      "cell_type": "code",
      "metadata": {
        "colab": {
          "base_uri": "https://localhost:8080/"
        },
        "id": "7djtFSPlxQoI",
        "outputId": "11b601c0-92a3-4185-ede8-de456b11afe2"
      },
      "source": [
        "print(\"********MEMBERSHIP*********\\n\")\n",
        "\n",
        "while (True):\n",
        "  option=int(input(\"1.New member\\n2.Check points\\n3.Delete Membership\\n4.Stop\\n\"))\n",
        "  if(option==1):\n",
        "    totalusers+=1\n",
        "    userid=str(totalusers)\n",
        "    uname=str(input(\"Enter Member name: \"))\n",
        "    phoneno=str(input(\"Enter Phone no.: \"))\n",
        "    points_earned=0;\n",
        "    \n",
        "    new={'userid':userid,'uname':uname,'points_earned':points_earned}\n",
        "    txt2[phoneno]=new\n",
        "    print(\"Membership created for \"+str(txt2[phoneno]['uname'])+\" ENJOY SHOPPING!\")\n",
        "  elif(option==2):\n",
        "    phno=str(input(\"enter phone number: \"))\n",
        "    print(\"Points earned till now= \"+str(txt2[phno]['points_earned']))\n",
        "  elif(option==3):\n",
        "    phno=str(input(\"enter phone number: \"))\n",
        "    print(str(txt2[phno]['uname'])+\", your membership has been delted\")\n",
        "    del txt2[phno]\n",
        "    \n",
        "  elif(option==4):\n",
        "    break;"
      ],
      "execution_count": 283,
      "outputs": [
        {
          "name": "stdout",
          "output_type": "stream",
          "text": [
            "********MEMBERSHIP*********\n",
            "\n",
            "1.New member\n",
            "2.Check points\n",
            "3.Delete Membership\n",
            "4.Stop\n",
            "1\n",
            "Enter Member name: anitej\n",
            "Enter Phone no.: 9854678\n",
            "Membership created for anitej ENJOY SHOPPING!\n",
            "1.New member\n",
            "2.Check points\n",
            "3.Delete Membership\n",
            "4.Stop\n",
            "2\n",
            "enter phone number: 878787\n",
            "Points earned till now= 50\n",
            "1.New member\n",
            "2.Check points\n",
            "3.Delete Membership\n",
            "4.Stop\n",
            "3\n",
            "enter phone number: 9854678\n",
            "anitej, your membership has been delted\n",
            "1.New member\n",
            "2.Check points\n",
            "3.Delete Membership\n",
            "4.Stop\n",
            "4\n"
          ]
        }
      ]
    },
    {
      "cell_type": "code",
      "metadata": {
        "id": "hQwCkKL60od_",
        "colab": {
          "base_uri": "https://localhost:8080/"
        },
        "outputId": "2d9e55e0-dfdb-4fb9-c8a5-eb390b9a2a01"
      },
      "source": [
        "txt2"
      ],
      "execution_count": 284,
      "outputs": [
        {
          "output_type": "execute_result",
          "data": {
            "text/plain": [
              "{'545454': {'points_earned': 0, 'uname': 'anisha', 'userid': '2'},\n",
              " '878787': {'points_earned': 50, 'uname': 'aishwarya', 'userid': '1'},\n",
              " '989898': {'points_earned': 0, 'uname': 'ashish', 'userid': '3'}}"
            ]
          },
          "metadata": {},
          "execution_count": 284
        }
      ]
    },
    {
      "cell_type": "code",
      "metadata": {
        "id": "PBH4hx3h0oQw"
      },
      "source": [
        "js1=json.dumps(txt2)\n",
        "b=open(\"users.json\",'w')\n",
        "b.write(js1)\n",
        "b.close()"
      ],
      "execution_count": 285,
      "outputs": []
    },
    {
      "cell_type": "code",
      "metadata": {
        "id": "IL0LhLaMAEVl"
      },
      "source": [
        "a=open(\"products.json\",'r')\n",
        "txt1=a.read()\n",
        "a.close()\n",
        "txt=json.loads(txt1)\n",
        "b=open(\"users.json\",'r')\n",
        "userslist=b.read()\n",
        "b.close()\n",
        "txt2=json.loads(userslist)\n",
        "totalusers=len(txt2.keys())"
      ],
      "execution_count": 286,
      "outputs": []
    },
    {
      "cell_type": "code",
      "metadata": {
        "id": "tpOxKiyIpOCy",
        "colab": {
          "base_uri": "https://localhost:8080/"
        },
        "outputId": "e608eeb9-6397-445b-e27d-4b0ad8b22aa6"
      },
      "source": [
        "print(\"******BILLING******\\n\")\n",
        "total=0\n",
        "phno=input(\"Enter phone number of customer if membership done\")\n",
        "while (True):\n",
        "\n",
        "  id=str(input(\"Enter ID:\"))\n",
        "  quant=int(input(\"Quantity:\"))\n",
        "  \n",
        "  if (txt[id]['quantityinstock']==0):\n",
        "    print(\"OUT OF STOCK!!\\n\")\n",
        "  elif (txt[id]['quantityinstock']<quant):\n",
        "    print(\"Discount \"+str(txt[id]['discount'])+\"% on \"+id)\n",
        "    amount=txt[id]['quantityinstock']*txt[id]['price']*(100-txt[id]['discount'])/100\n",
        "    print(\"Amount= \"+str(amount))\n",
        "    total+=amount\n",
        "    print(\"Only \"+str(txt[id]['quantityinstock'])+\" available, ADDED TO BILL\\n\")\n",
        "    txt[id]['quantityinstock']=0\n",
        "  elif (txt[id]['quantityinstock']>=quant):\n",
        "    print(\"Discount \"+str(txt[id]['discount'])+\"% on \"+id)\n",
        "    amount=quant*txt[id]['price']*(100-txt[id]['discount'])/100\n",
        "    print(\"Amount= \"+str(amount))\n",
        "    total+=amount\n",
        "    txt[id]['quantityinstock']-=quant\n",
        "    print(\"ADDED TO BILL\\n\")\n",
        "\n",
        "  op=int(input(\"1.Add next product\\n0.Finish billing\\n\"))\n",
        "  if (op==0):\n",
        "    op1=int(input(\"Do you want to use your points?\\n1.YES\\n2.NO\\n\"))\n",
        "    if (op1==1):\n",
        "      if (txt2[phno]['points_earned']==0):\n",
        "        print(\"You have 0 points\\n\")\n",
        "      elif (txt2[phno]['points_earned']<total):\n",
        "        total-=txt2[phno]['points_earned']\n",
        "        print(str(txt2[phno]['points_earned'])+\" points used\\n\")\n",
        "      elif (txt2[phno]['points_earned']>total):\n",
        "        print(str(total)+\" points used\\n\")\n",
        "        total=0\n",
        "        \n",
        "    print(\"TOTAL AMOUNT= Rs.\"+str(total))\n",
        "    txt2[phno]['points_earned']+=int(total/50)\n",
        "    print(str(txt2[phno]['points_earned'])+\" points added. THANKYOU FOR SHOPPING\")\n",
        "    break; \n",
        "    "
      ],
      "execution_count": 288,
      "outputs": [
        {
          "output_type": "stream",
          "name": "stdout",
          "text": [
            "******BILLING******\n",
            "\n",
            "Enter phone number of customer if membership done878787\n",
            "Enter ID:003\n",
            "Quantity:1\n",
            "Discount 0% on 003\n",
            "Amount= 10.0\n",
            "ADDED TO BILL\n",
            "\n",
            "1.Add next product\n",
            "0.Finish billing\n",
            "1\n",
            "Enter ID:005\n",
            "Quantity:2\n",
            "Discount 0% on 005\n",
            "Amount= 60.0\n",
            "ADDED TO BILL\n",
            "\n",
            "1.Add next product\n",
            "0.Finish billing\n",
            "0\n",
            "Do you want to use your points?\n",
            "1.YES\n",
            "2.NO\n",
            "2\n",
            "TOTAL AMOUNT= Rs.70.0\n",
            "51 points added. THANKYOU FOR SHOPPING\n"
          ]
        }
      ]
    }
  ]
}