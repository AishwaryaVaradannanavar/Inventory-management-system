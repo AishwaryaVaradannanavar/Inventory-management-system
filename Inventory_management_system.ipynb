{
  "nbformat": 4,
  "nbformat_minor": 0,
  "metadata": {
    "colab": {
      "name": "Inventory management system.ipynb",
      "provenance": [],
      "authorship_tag": "ABX9TyMdz/Rlr/Nk0UVu2CPHpb3D",
      "include_colab_link": true
    },
    "kernelspec": {
      "name": "python3",
      "display_name": "Python 3"
    },
    "language_info": {
      "name": "python"
    }
  },
  "cells": [
    {
      "cell_type": "markdown",
      "metadata": {
        "id": "view-in-github",
        "colab_type": "text"
      },
      "source": [
        "<a href=\"https://colab.research.google.com/github/AishwaryaVaradannanavar/Inventory-management-system/blob/main/Inventory_management_system.ipynb\" target=\"_parent\"><img src=\"https://colab.research.google.com/assets/colab-badge.svg\" alt=\"Open In Colab\"/></a>"
      ]
    },
    {
      "cell_type": "code",
      "metadata": {
        "id": "fWAK7q2-V7Iy"
      },
      "source": [
        "import json\n",
        "a=open(\"products.json\",'r')\n",
        "txt=a.read()\n",
        "a.close()\n",
        "\n",
        "\n"
      ],
      "execution_count": 215,
      "outputs": []
    },
    {
      "cell_type": "code",
      "metadata": {
        "colab": {
          "base_uri": "https://localhost:8080/",
          "height": 414
        },
        "id": "z-NitIQbCPpq",
        "outputId": "772c1233-4484-4b2e-c6c3-91cc30adca4d"
      },
      "source": [
        "print(\"********STOCK*********\\n\")\n",
        "\n",
        "while (True):\n",
        "  option=int(input(\"1.New product\\n2.Restock\\n3.Stop\\n\"))\n",
        "  if(option==1):\n",
        "\n",
        "    productid=str(input(\"Enter ProductID: \"))\n",
        "    pname=str(input(\"Enter Product name: \"))\n",
        "    price=int(input(\"Enter Product price: \"))\n",
        "    quantityinstock=int(input(\"Enter Product quantity in stock: \"))\n",
        "    discount=int(input(\"Enter Product discount in percentage: \"))\n",
        "    \n",
        "    new={'pname':pname,'price':price,'quantityinstock':quantityinstock,'discount':discount}\n",
        "    \n",
        "    txt[productid]=new\n",
        "\n",
        "  elif(option==2):\n",
        "\n",
        "    productid=str(input(\"Enter ProductID: \"))\n",
        "    restockquantity=int(input(\"Enter number of Products restocking: \"))\n",
        "    txt[productid]['quantityinstock']+=restockquantity\n",
        "\n",
        "  elif(option==3):\n",
        "    break;"
      ],
      "execution_count": 216,
      "outputs": [
        {
          "name": "stdout",
          "output_type": "stream",
          "text": [
            "********STOCK*********\n",
            "\n",
            "1.New product\n",
            "2.Restock\n",
            "3.Stop\n",
            "1\n",
            "Enter ProductID: tee1\n",
            "Enter Product name: t shirt\n",
            "Enter Product price: 400\n",
            "Enter Product quantity in stock: 3\n",
            "Enter Product discount in percentage: 0\n"
          ]
        },
        {
          "output_type": "error",
          "ename": "TypeError",
          "evalue": "ignored",
          "traceback": [
            "\u001b[0;31m---------------------------------------------------------------------------\u001b[0m",
            "\u001b[0;31mTypeError\u001b[0m                                 Traceback (most recent call last)",
            "\u001b[0;32m<ipython-input-216-debac1973dd1>\u001b[0m in \u001b[0;36m<module>\u001b[0;34m()\u001b[0m\n\u001b[1;32m     13\u001b[0m     \u001b[0mnew\u001b[0m\u001b[0;34m=\u001b[0m\u001b[0;34m{\u001b[0m\u001b[0;34m'pname'\u001b[0m\u001b[0;34m:\u001b[0m\u001b[0mpname\u001b[0m\u001b[0;34m,\u001b[0m\u001b[0;34m'price'\u001b[0m\u001b[0;34m:\u001b[0m\u001b[0mprice\u001b[0m\u001b[0;34m,\u001b[0m\u001b[0;34m'quantityinstock'\u001b[0m\u001b[0;34m:\u001b[0m\u001b[0mquantityinstock\u001b[0m\u001b[0;34m,\u001b[0m\u001b[0;34m'discount'\u001b[0m\u001b[0;34m:\u001b[0m\u001b[0mdiscount\u001b[0m\u001b[0;34m}\u001b[0m\u001b[0;34m\u001b[0m\u001b[0;34m\u001b[0m\u001b[0m\n\u001b[1;32m     14\u001b[0m \u001b[0;34m\u001b[0m\u001b[0m\n\u001b[0;32m---> 15\u001b[0;31m     \u001b[0mtxt\u001b[0m\u001b[0;34m[\u001b[0m\u001b[0mproductid\u001b[0m\u001b[0;34m]\u001b[0m\u001b[0;34m=\u001b[0m\u001b[0mnew\u001b[0m\u001b[0;34m\u001b[0m\u001b[0;34m\u001b[0m\u001b[0m\n\u001b[0m\u001b[1;32m     16\u001b[0m \u001b[0;34m\u001b[0m\u001b[0m\n\u001b[1;32m     17\u001b[0m   \u001b[0;32melif\u001b[0m\u001b[0;34m(\u001b[0m\u001b[0moption\u001b[0m\u001b[0;34m==\u001b[0m\u001b[0;36m2\u001b[0m\u001b[0;34m)\u001b[0m\u001b[0;34m:\u001b[0m\u001b[0;34m\u001b[0m\u001b[0;34m\u001b[0m\u001b[0m\n",
            "\u001b[0;31mTypeError\u001b[0m: 'str' object does not support item assignment"
          ]
        }
      ]
    },
    {
      "cell_type": "code",
      "metadata": {
        "colab": {
          "base_uri": "https://localhost:8080/"
        },
        "id": "BnfhWdNcGmmZ",
        "outputId": "47c187c8-5a76-4040-e967-1e1374fb336e"
      },
      "source": [
        "txt"
      ],
      "execution_count": 167,
      "outputs": [
        {
          "output_type": "execute_result",
          "data": {
            "text/plain": [
              "{'we': {'discount': 2, 'pname': 'we', 'price': 2, 'quantityinstock': 1}}"
            ]
          },
          "metadata": {},
          "execution_count": 167
        }
      ]
    },
    {
      "cell_type": "code",
      "metadata": {
        "id": "pO3YnrDwNAQT"
      },
      "source": [
        "js=json.dumps(txt)\n",
        "a=open(\"products.txt\",'w')\n",
        "a.write(js)\n",
        "a.close()\n"
      ],
      "execution_count": 147,
      "outputs": []
    },
    {
      "cell_type": "code",
      "metadata": {
        "id": "YJn8rVH9yAJI"
      },
      "source": [
        "b=open(\"users.txt\",'r')\n",
        "userslist=b.read()\n",
        "b.close()\n",
        "txt2=json.loads(userslist)\n",
        "totalusers=len(txt2.keys())"
      ],
      "execution_count": 204,
      "outputs": []
    },
    {
      "cell_type": "code",
      "metadata": {
        "colab": {
          "base_uri": "https://localhost:8080/"
        },
        "id": "7djtFSPlxQoI",
        "outputId": "1a3b04ba-32e3-4503-f131-9feb0564795e"
      },
      "source": [
        "print(\"********MEMBERSHIP*********\\n\")\n",
        "\n",
        "while (True):\n",
        "  option=int(input(\"1.New member\\n2.Check points\\n3.Delete Membership\\n4.Stop\\n\"))\n",
        "  if(option==1):\n",
        "    totalusers+=1\n",
        "    userid=str(totalusers)\n",
        "    uname=str(input(\"Enter Member name: \"))\n",
        "    phoneno=str(input(\"Enter Phone no.: \"))\n",
        "    points_earned=0;\n",
        "    \n",
        "    new={'userid':userid,'uname':uname,'points_earned':points_earned}\n",
        "    txt2[phoneno]=new\n",
        "    print(\"Membership created for \"+str(txt2[phoneno]['uname'])+\" ENJOY SHOPPING!\")\n",
        "  elif(option==2):\n",
        "    phno=str(input(\"enter phone number: \"))\n",
        "    print(\"Points earned till now= \"+str(txt2[phno]['points_earned']))\n",
        "  elif(option==3):\n",
        "    phno=str(input(\"enter phone number: \"))\n",
        "    print(str(txt2[phno]['uname'])+\", your membership has been delted\")\n",
        "    del txt2[phno]\n",
        "    \n",
        "  elif(option==4):\n",
        "    break;"
      ],
      "execution_count": 205,
      "outputs": [
        {
          "name": "stdout",
          "output_type": "stream",
          "text": [
            "********MEMBERSHIP*********\n",
            "\n",
            "1.New member\n",
            "2.Check points\n",
            "3.Delete Membership\n",
            "4.Stop\n",
            "1\n",
            "Enter Member name: vish\n",
            "Enter Phone no.: 656565\n",
            "Membership created for vish ENJOY SHOPPING!\n",
            "1.New member\n",
            "2.Check points\n",
            "3.Delete Membership\n",
            "4.Stop\n",
            "4\n"
          ]
        }
      ]
    },
    {
      "cell_type": "code",
      "metadata": {
        "id": "hQwCkKL60od_"
      },
      "source": [
        "txt2"
      ],
      "execution_count": 210,
      "outputs": []
    },
    {
      "cell_type": "code",
      "metadata": {
        "id": "PBH4hx3h0oQw"
      },
      "source": [
        "js1=json.dumps(txt2)\n",
        "b=open(\"users.txt\",'w')\n",
        "b.write(js1)\n",
        "b.close()"
      ],
      "execution_count": 207,
      "outputs": []
    },
    {
      "cell_type": "code",
      "metadata": {
        "colab": {
          "base_uri": "https://localhost:8080/"
        },
        "id": "tpOxKiyIpOCy",
        "outputId": "7659da0f-8849-43ad-8bda-11472e2ee8b6"
      },
      "source": [
        "print(\"******BILLING******\\n\")\n",
        "total=0\n",
        "phno=input(\"Enter phone number of customer if membership done\")\n",
        "while (True):\n",
        "\n",
        "  id=str(input(\"Enter ID:\"))\n",
        "  quant=int(input(\"Quantity:\"))\n",
        "  \n",
        "  if (txt[id]['quantityinstock']==0):\n",
        "    print(\"OUT OF STOCK!!\\n\")\n",
        "  elif (txt[id]['quantityinstock']<quant):\n",
        "    print(\"Discount \"+str(txt[id]['discount'])+\"% on \"+id)\n",
        "    total+=(txt[id]['quantityinstock']*txt[id]['price']*(100-txt[id]['discount'])/100)\n",
        "    print(\"Only \"+str(txt[id]['quantityinstock'])+\" available, ADDED TO BILL\\n\")\n",
        "    txt[id]['quantityinstock']=0\n",
        "  elif (txt[id]['quantityinstock']>=quant):\n",
        "    print(\"Discount \"+str(txt[id]['discount'])+\"% on \"+id)\n",
        "    total+=(quant*txt[id]['price']*(100-txt[id]['discount'])/100)\n",
        "    txt[id]['quantityinstock']-=quant\n",
        "    print(\"ADDED TO BILL\\n\")\n",
        "\n",
        "  op=int(input(\"1.Add next product\\n0.Finish billing\\n\"))\n",
        "  if (op==0):\n",
        "    op1=int(input(\"Do you want to use your points?\\n1.YES\\n2.NO\\n\"))\n",
        "    if (op2==1):\n",
        "      if (txt2[phno]['points_earned']==0):\n",
        "        printf(\"You have 0 points\\n\")\n",
        "      else :\n",
        "        total-=txt2[phno]['points_earned']\n",
        "        print(str(txt2[phno]['points_earned'])+\" points used\\n\")\n",
        "      \n",
        "    print(\"TOTAL AMOUNT= Rs.\"+str(total))\n",
        "    txt2[phno]['points_earned']==total/50\n",
        "    print(str(txt2[phno]['points_earned'])+\" points added. THANKYOU FOR SHOPPING\")\n",
        "    break; \n",
        "    "
      ],
      "execution_count": null,
      "outputs": [
        {
          "name": "stdout",
          "output_type": "stream",
          "text": [
            "******BILLING******\n",
            "\n",
            "Enter phone number of customer if membership done878787\n",
            "Enter ID:tee\n"
          ]
        }
      ]
    }
  ]
}