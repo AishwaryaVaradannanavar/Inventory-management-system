{
  "nbformat": 4,
  "nbformat_minor": 0,
  "metadata": {
    "colab": {
      "name": "Stock Management.ipynb",
      "provenance": [],
      "authorship_tag": "ABX9TyPe4zvo8itDrb43HQQ5dXmP",
      "include_colab_link": true
    },
    "kernelspec": {
      "name": "python3",
      "display_name": "Python 3"
    },
    "language_info": {
      "name": "python"
    }
  },
  "cells": [
    {
      "cell_type": "markdown",
      "metadata": {
        "id": "view-in-github",
        "colab_type": "text"
      },
      "source": [
        "<a href=\"https://colab.research.google.com/github/AishwaryaVaradannanavar/Inventory-management-system/blob/main/Stock_Management.ipynb\" target=\"_parent\"><img src=\"https://colab.research.google.com/assets/colab-badge.svg\" alt=\"Open In Colab\"/></a>"
      ]
    },
    {
      "cell_type": "code",
      "metadata": {
        "id": "FLJqO8lT05na"
      },
      "source": [
        "import json\n",
        "a=open(\"products.json\",'r')\n",
        "txt1=a.read()\n",
        "a.close()\n",
        "txt=json.loads(txt1)\n"
      ],
      "execution_count": null,
      "outputs": []
    },
    {
      "cell_type": "code",
      "metadata": {
        "id": "wXmRGqhg3IKo"
      },
      "source": [
        "print(\"********STOCK*********\\n\")\n",
        "\n",
        "while (True):\n",
        "  option=int(input(\"1.New product\\n2.Restock\\n3.check stock\\n4.Stop\\n\"))\n",
        "  if (option==1):\n",
        "\n",
        "    productid=str(input(\"Enter ProductID: \"))\n",
        "    pname=str(input(\"Enter Product name: \"))\n",
        "    price=int(input(\"Enter Product price: \"))\n",
        "    quantityinstock=int(input(\"Enter Product quantity in stock: \"))\n",
        "    discount=int(input(\"Enter Product discount in percentage: \"))\n",
        "    \n",
        "    new={'pname':pname,'price':price,'quantityinstock':quantityinstock,'discount':discount}\n",
        "    \n",
        "    txt[productid]=new\n",
        "\n",
        "  elif (option==2):\n",
        "\n",
        "    productid=str(input(\"Enter ProductID: \"))\n",
        "    restockquantity=int(input(\"Enter number of Products restocking: \"))\n",
        "    txt[productid]['quantityinstock']+=restockquantity\n",
        "  elif (option==3):\n",
        "    productid=str(input(\"Enter ProductID: \"))\n",
        "    print(\"stock remaining= \"+str(txt[productid]['quantityinstock']))\n",
        "  elif (option==4):\n",
        "    break;"
      ],
      "execution_count": null,
      "outputs": []
    },
    {
      "cell_type": "code",
      "metadata": {
        "id": "Vj-JMvf43Mml"
      },
      "source": [
        "txt"
      ],
      "execution_count": null,
      "outputs": []
    },
    {
      "cell_type": "code",
      "metadata": {
        "id": "y20Tbuaj3Ohn"
      },
      "source": [
        "js=json.dumps(txt)\n",
        "a=open(\"products.json\",'w')\n",
        "a.write(js)\n",
        "a.close()\n"
      ],
      "execution_count": null,
      "outputs": []
    },
    {
      "cell_type": "code",
      "metadata": {
        "id": "Ym-HZT2W3Sow"
      },
      "source": [
        ""
      ],
      "execution_count": null,
      "outputs": []
    }
  ]
}