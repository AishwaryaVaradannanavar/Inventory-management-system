{
  "nbformat": 4,
  "nbformat_minor": 0,
  "metadata": {
    "colab": {
      "name": "Stock Management.ipynb",
      "provenance": [],
      "authorship_tag": "ABX9TyPe4zvo8itDrb43HQQ5dXmP",
      "include_colab_link": true
    },
    "kernelspec": {
      "name": "python3",
      "display_name": "Python 3"
    },
    "language_info": {
      "name": "python"
    }
  },
  "cells": [
    {
      "cell_type": "markdown",
      "metadata": {
        "id": "view-in-github",
        "colab_type": "text"
      },
      "source": [
        "<a href=\"https://colab.research.google.com/github/AishwaryaVaradannanavar/Inventory-management-system/blob/main/Stock_Management.ipynb\" target=\"_parent\"><img src=\"https://colab.research.google.com/assets/colab-badge.svg\" alt=\"Open In Colab\"/></a>"
      ]
    },
    {
      "cell_type": "code",
      "metadata": {
        "id": "FLJqO8lT05na"
      },
      "source": [
        "import json\n",
        "a=open(\"products.json\",'r')\n",
        "txt1=a.read()\n",
        "a.close()\n",
        "txt=json.loads(txt1)\n"
      ],
      "execution_count": 1,
      "outputs": []
    },
    {
      "cell_type": "code",
      "metadata": {
        "id": "wXmRGqhg3IKo",
        "colab": {
          "base_uri": "https://localhost:8080/"
        },
        "outputId": "102e31ac-b62c-42a2-ea3a-c930f7d993a0"
      },
      "source": [
        "print(\"********STOCK*********\\n\")\n",
        "\n",
        "while (True):\n",
        "  option=int(input(\"1.New product\\n2.Restock\\n3.check stock\\n4.Stop\\n\"))\n",
        "  if (option==1):\n",
        "\n",
        "    productid=str(input(\"Enter ProductID: \"))\n",
        "    pname=str(input(\"Enter Product name: \"))\n",
        "    price=int(input(\"Enter Product price: \"))\n",
        "    quantityinstock=int(input(\"Enter Product quantity in stock: \"))\n",
        "    discount=int(input(\"Enter Product discount in percentage: \"))\n",
        "    \n",
        "    new={'pname':pname,'price':price,'quantityinstock':quantityinstock,'discount':discount}\n",
        "    \n",
        "    txt[productid]=new\n",
        "\n",
        "  elif (option==2):\n",
        "\n",
        "    productid=str(input(\"Enter ProductID: \"))\n",
        "    restockquantity=int(input(\"Enter number of Products restocking: \"))\n",
        "    txt[productid]['quantityinstock']+=restockquantity\n",
        "  elif (option==3):\n",
        "    productid=str(input(\"Enter ProductID: \"))\n",
        "    print(\"stock remaining= \"+str(txt[productid]['quantityinstock']))\n",
        "  elif (option==4):\n",
        "    break;"
      ],
      "execution_count": 2,
      "outputs": [
        {
          "name": "stdout",
          "output_type": "stream",
          "text": [
            "********STOCK*********\n",
            "\n",
            "1.New product\n",
            "2.Restock\n",
            "3.check stock\n",
            "4.Stop\n",
            "1\n",
            "Enter ProductID: 033\n",
            "Enter Product name: protein bar\n",
            "Enter Product price: 40\n",
            "Enter Product quantity in stock: 40\n",
            "Enter Product discount in percentage: 2\n",
            "1.New product\n",
            "2.Restock\n",
            "3.check stock\n",
            "4.Stop\n",
            "2\n",
            "Enter ProductID: 033\n",
            "Enter number of Products restocking: 10\n",
            "1.New product\n",
            "2.Restock\n",
            "3.check stock\n",
            "4.Stop\n",
            "3\n",
            "Enter ProductID: 033\n",
            "stock remaining= 50\n",
            "1.New product\n",
            "2.Restock\n",
            "3.check stock\n",
            "4.Stop\n",
            "4\n"
          ]
        }
      ]
    },
    {
      "cell_type": "code",
      "metadata": {
        "id": "Vj-JMvf43Mml",
        "colab": {
          "base_uri": "https://localhost:8080/"
        },
        "outputId": "60a11c3a-5ed1-44a1-c6f1-afe611c7d5ac"
      },
      "source": [
        "txt"
      ],
      "execution_count": 3,
      "outputs": [
        {
          "output_type": "execute_result",
          "data": {
            "text/plain": [
              "{'001': {'discount': 5,\n",
              "  'pname': 't shirt',\n",
              "  'price': 500,\n",
              "  'quantityinstock': 44},\n",
              " '002': {'discount': 0, 'pname': 'apple', 'price': 20, 'quantityinstock': 30},\n",
              " '003': {'discount': 0, 'pname': 'banana', 'price': 10, 'quantityinstock': 23},\n",
              " '004': {'discount': 10, 'pname': 'oil', 'price': 300, 'quantityinstock': 5},\n",
              " '005': {'discount': 0, 'pname': 'bread', 'price': 30, 'quantityinstock': 2},\n",
              " '006': {'discount': 0,\n",
              "  'pname': 'biscuit',\n",
              "  'price': 20,\n",
              "  'quantityinstock': 10},\n",
              " '007': {'discount': 0, 'pname': 'cake', 'price': 50, 'quantityinstock': 5},\n",
              " '008': {'discount': 1, 'pname': 'juice', 'price': 40, 'quantityinstock': 5},\n",
              " '009': {'discount': 10,\n",
              "  'pname': 'surf excel',\n",
              "  'price': 500,\n",
              "  'quantityinstock': 5},\n",
              " '010': {'discount': 0, 'pname': 'eggs', 'price': 8, 'quantityinstock': 50},\n",
              " '011': {'discount': 0,\n",
              "  'pname': 'toothpaste',\n",
              "  'price': 30,\n",
              "  'quantityinstock': 10},\n",
              " '012': {'discount': 10,\n",
              "  'pname': 'wheat flour',\n",
              "  'price': 600,\n",
              "  'quantityinstock': 4},\n",
              " '013': {'discount': 0, 'pname': 'milk', 'price': 30, 'quantityinstock': 10},\n",
              " '014': {'discount': 10,\n",
              "  'pname': 'harpic',\n",
              "  'price': 300,\n",
              "  'quantityinstock': 7},\n",
              " '015': {'discount': 10,\n",
              "  'pname': 'face cream',\n",
              "  'price': 500,\n",
              "  'quantityinstock': 5},\n",
              " '016': {'discount': 0,\n",
              "  'pname': 'dairy milk',\n",
              "  'price': 30,\n",
              "  'quantityinstock': 30},\n",
              " '017': {'discount': 0, 'pname': 'kitkat', 'price': 20, 'quantityinstock': 20},\n",
              " '018': {'discount': 5,\n",
              "  'pname': 'spaghetti',\n",
              "  'price': 400,\n",
              "  'quantityinstock': 5},\n",
              " '019': {'discount': 5,\n",
              "  'pname': 'sanitary napkin',\n",
              "  'price': 450,\n",
              "  'quantityinstock': 10},\n",
              " '020': {'discount': 2,\n",
              "  'pname': 'protien powder',\n",
              "  'price': 600,\n",
              "  'quantityinstock': 5},\n",
              " '021': {'discount': 2, 'pname': 'makhana', 'price': 40, 'quantityinstock': 8},\n",
              " '022': {'discount': 10,\n",
              "  'pname': 'coffee powder',\n",
              "  'price': 400,\n",
              "  'quantityinstock': 10},\n",
              " '023': {'discount': 0, 'pname': 'gloves', 'price': 180, 'quantityinstock': 5},\n",
              " '024': {'discount': 0,\n",
              "  'pname': 'panner',\n",
              "  'price': 100,\n",
              "  'quantityinstock': 10},\n",
              " '025': {'discount': 5,\n",
              "  'pname': 'handwash',\n",
              "  'price': 400,\n",
              "  'quantityinstock': 5},\n",
              " '026': {'discount': 0,\n",
              "  'pname': 'tea powder',\n",
              "  'price': 200,\n",
              "  'quantityinstock': 30},\n",
              " '027': {'discount': 0,\n",
              "  'pname': 'dosa batter',\n",
              "  'price': 100,\n",
              "  'quantityinstock': 10},\n",
              " '028': {'discount': 0, 'pname': 'book', 'price': 40, 'quantityinstock': 10},\n",
              " '029': {'discount': 0,\n",
              "  'pname': 'chewing gum',\n",
              "  'price': 10,\n",
              "  'quantityinstock': 50},\n",
              " '030': {'discount': 0,\n",
              "  'pname': 'scissors',\n",
              "  'price': 40,\n",
              "  'quantityinstock': 10},\n",
              " '031': {'discount': 0, 'pname': 'pencil', 'price': 5, 'quantityinstock': 70},\n",
              " '033': {'discount': 2,\n",
              "  'pname': 'protein bar',\n",
              "  'price': 40,\n",
              "  'quantityinstock': 50}}"
            ]
          },
          "metadata": {},
          "execution_count": 3
        }
      ]
    },
    {
      "cell_type": "code",
      "metadata": {
        "id": "y20Tbuaj3Ohn"
      },
      "source": [
        "js=json.dumps(txt)\n",
        "a=open(\"products.json\",'w')\n",
        "a.write(js)\n",
        "a.close()\n"
      ],
      "execution_count": 4,
      "outputs": []
    },
    {
      "cell_type": "code",
      "metadata": {
        "id": "Ym-HZT2W3Sow"
      },
      "source": [
        ""
      ],
      "execution_count": null,
      "outputs": []
    }
  ]
}