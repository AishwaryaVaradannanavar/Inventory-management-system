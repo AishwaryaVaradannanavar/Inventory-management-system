{
  "nbformat": 4,
  "nbformat_minor": 0,
  "metadata": {
    "colab": {
      "name": "Membership.ipynb",
      "provenance": [],
      "authorship_tag": "ABX9TyM7LOEP1bN9X61hdvUBhZjh",
      "include_colab_link": true
    },
    "kernelspec": {
      "name": "python3",
      "display_name": "Python 3"
    },
    "language_info": {
      "name": "python"
    }
  },
  "cells": [
    {
      "cell_type": "markdown",
      "metadata": {
        "id": "view-in-github",
        "colab_type": "text"
      },
      "source": [
        "<a href=\"https://colab.research.google.com/github/AishwaryaVaradannanavar/Inventory-management-system/blob/main/Membership.ipynb\" target=\"_parent\"><img src=\"https://colab.research.google.com/assets/colab-badge.svg\" alt=\"Open In Colab\"/></a>"
      ]
    },
    {
      "cell_type": "code",
      "metadata": {
        "id": "gQW-tSYu3ZMn"
      },
      "source": [
        "import json\n",
        "b=open(\"users.json\",'r')\n",
        "userslist=b.read()\n",
        "b.close()\n",
        "txt2=json.loads(userslist)\n",
        "totalusers=len(txt2.keys())"
      ],
      "execution_count": null,
      "outputs": []
    },
    {
      "cell_type": "code",
      "metadata": {
        "id": "R5jzCx_B3kiw"
      },
      "source": [
        "print(\"********MEMBERSHIP*********\\n\")\n",
        "\n",
        "while (True):\n",
        "  option=int(input(\"1.New member\\n2.Check points\\n3.Delete Membership\\n4.Stop\\n\"))\n",
        "  if(option==1):\n",
        "    totalusers+=1\n",
        "    userid=str(totalusers)\n",
        "    uname=str(input(\"Enter Member name: \"))\n",
        "    phoneno=str(input(\"Enter Phone no.: \"))\n",
        "    points_earned=0;\n",
        "    \n",
        "    new={'userid':userid,'uname':uname,'points_earned':points_earned}\n",
        "    txt2[phoneno]=new\n",
        "    print(\"Membership created for \"+str(txt2[phoneno]['uname'])+\" ENJOY SHOPPING!\")\n",
        "  elif(option==2):\n",
        "    phno=str(input(\"enter phone number: \"))\n",
        "    print(\"Points earned till now= \"+str(txt2[phno]['points_earned']))\n",
        "  elif(option==3):\n",
        "    phno=str(input(\"enter phone number: \"))\n",
        "    print(str(txt2[phno]['uname'])+\", your membership has been deleted\")\n",
        "    del txt2[phno]\n",
        "    \n",
        "  elif(option==4):\n",
        "    break;"
      ],
      "execution_count": null,
      "outputs": []
    },
    {
      "cell_type": "code",
      "metadata": {
        "id": "HQSL8bUy3oSk"
      },
      "source": [
        "txt2"
      ],
      "execution_count": null,
      "outputs": []
    },
    {
      "cell_type": "code",
      "metadata": {
        "id": "3oZuSWus3pVw"
      },
      "source": [
        "js1=json.dumps(txt2)\n",
        "b=open(\"users.json\",'w')\n",
        "b.write(js1)\n",
        "b.close()"
      ],
      "execution_count": null,
      "outputs": []
    }
  ]
}