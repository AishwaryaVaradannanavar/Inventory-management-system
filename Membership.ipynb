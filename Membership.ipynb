{
  "nbformat": 4,
  "nbformat_minor": 0,
  "metadata": {
    "colab": {
      "name": "Membership.ipynb",
      "provenance": [],
      "authorship_tag": "ABX9TyM7LOEP1bN9X61hdvUBhZjh",
      "include_colab_link": true
    },
    "kernelspec": {
      "name": "python3",
      "display_name": "Python 3"
    },
    "language_info": {
      "name": "python"
    }
  },
  "cells": [
    {
      "cell_type": "markdown",
      "metadata": {
        "id": "view-in-github",
        "colab_type": "text"
      },
      "source": [
        "<a href=\"https://colab.research.google.com/github/AishwaryaVaradannanavar/Inventory-management-system/blob/main/Membership.ipynb\" target=\"_parent\"><img src=\"https://colab.research.google.com/assets/colab-badge.svg\" alt=\"Open In Colab\"/></a>"
      ]
    },
    {
      "cell_type": "code",
      "metadata": {
        "id": "gQW-tSYu3ZMn"
      },
      "source": [
        "import json\n",
        "b=open(\"users.json\",'r')\n",
        "userslist=b.read()\n",
        "b.close()\n",
        "txt2=json.loads(userslist)\n",
        "totalusers=len(txt2.keys())"
      ],
      "execution_count": 1,
      "outputs": []
    },
    {
      "cell_type": "code",
      "metadata": {
        "id": "R5jzCx_B3kiw",
        "colab": {
          "base_uri": "https://localhost:8080/"
        },
        "outputId": "a47f7acc-af98-4f67-e633-b3ff1f385a11"
      },
      "source": [
        "print(\"********MEMBERSHIP*********\\n\")\n",
        "\n",
        "while (True):\n",
        "  option=int(input(\"1.New member\\n2.Check points\\n3.Delete Membership\\n4.Stop\\n\"))\n",
        "  if(option==1):\n",
        "    totalusers+=1\n",
        "    userid=str(totalusers)\n",
        "    uname=str(input(\"Enter Member name: \"))\n",
        "    phoneno=str(input(\"Enter Phone no.: \"))\n",
        "    points_earned=0;\n",
        "    \n",
        "    new={'userid':userid,'uname':uname,'points_earned':points_earned}\n",
        "    txt2[phoneno]=new\n",
        "    print(\"Membership created for \"+str(txt2[phoneno]['uname'])+\" ENJOY SHOPPING!\")\n",
        "  elif(option==2):\n",
        "    phno=str(input(\"enter phone number: \"))\n",
        "    print(\"Points earned till now= \"+str(txt2[phno]['points_earned']))\n",
        "  elif(option==3):\n",
        "    phno=str(input(\"enter phone number: \"))\n",
        "    print(str(txt2[phno]['uname'])+\", your membership has been deleted\")\n",
        "    del txt2[phno]\n",
        "    \n",
        "  elif(option==4):\n",
        "    break;"
      ],
      "execution_count": 2,
      "outputs": [
        {
          "name": "stdout",
          "output_type": "stream",
          "text": [
            "********MEMBERSHIP*********\n",
            "\n",
            "1.New member\n",
            "2.Check points\n",
            "3.Delete Membership\n",
            "4.Stop\n",
            "1\n",
            "Enter Member name: Isha\n",
            "Enter Phone no.: 34343434\n",
            "Membership created for Isha ENJOY SHOPPING!\n",
            "1.New member\n",
            "2.Check points\n",
            "3.Delete Membership\n",
            "4.Stop\n",
            "2\n",
            "enter phone number: 34343434\n",
            "Points earned till now= 0\n",
            "1.New member\n",
            "2.Check points\n",
            "3.Delete Membership\n",
            "4.Stop\n",
            "2\n",
            "enter phone number: 878787\n",
            "Points earned till now= 50\n",
            "1.New member\n",
            "2.Check points\n",
            "3.Delete Membership\n",
            "4.Stop\n",
            "3\n",
            "enter phone number: 34343434\n",
            "Isha, your membership has been deleted\n",
            "1.New member\n",
            "2.Check points\n",
            "3.Delete Membership\n",
            "4.Stop\n",
            "4\n"
          ]
        }
      ]
    },
    {
      "cell_type": "code",
      "metadata": {
        "id": "HQSL8bUy3oSk",
        "colab": {
          "base_uri": "https://localhost:8080/"
        },
        "outputId": "ffd2adde-a266-4dd7-c26a-d1f486b980c0"
      },
      "source": [
        "txt2"
      ],
      "execution_count": 3,
      "outputs": [
        {
          "output_type": "execute_result",
          "data": {
            "text/plain": [
              "{'545454': {'points_earned': 0, 'uname': 'anisha', 'userid': '2'},\n",
              " '878787': {'points_earned': 50, 'uname': 'aishwarya', 'userid': '1'},\n",
              " '98457878': {'points_earned': 0, 'uname': 'anitej', 'userid': '4'},\n",
              " '989898': {'points_earned': 0, 'uname': 'ashish', 'userid': '3'}}"
            ]
          },
          "metadata": {},
          "execution_count": 3
        }
      ]
    },
    {
      "cell_type": "code",
      "metadata": {
        "id": "3oZuSWus3pVw"
      },
      "source": [
        "js1=json.dumps(txt2)\n",
        "b=open(\"users.json\",'w')\n",
        "b.write(js1)\n",
        "b.close()"
      ],
      "execution_count": 4,
      "outputs": []
    }
  ]
}